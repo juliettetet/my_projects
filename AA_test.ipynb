{
 "cells": [
  {
   "cell_type": "markdown",
   "metadata": {},
   "source": [
    "Описание задания:\n",
    "А/А-тестирование мобильного приложения. Необходимо посчитать результаты A/A-теста, проверяя метрику качества FPR (будем проверять на конверсии в покупку). Известно, что сплит-система сломана. Требуется проверить утверждение о поломке и найти ее причины, если сплит-система действительно сломана."
   ]
  },
  {
   "cell_type": "markdown",
   "metadata": {},
   "source": [
    "experimentVariant – вариант эксперимента\n",
    "\n",
    "version – версия приложения\n",
    "\n",
    "purchase – факт покупки"
   ]
  },
  {
   "cell_type": "code",
   "execution_count": 69,
   "metadata": {},
   "outputs": [],
   "source": [
    "import pandas as pd\n",
    "import numpy as np\n",
    "import matplotlib.pyplot as plt\n",
    "from scipy import stats\n",
    "\n",
    "from tqdm.auto import tqdm"
   ]
  },
  {
   "cell_type": "code",
   "execution_count": 70,
   "metadata": {},
   "outputs": [],
   "source": [
    "df = pd.read_csv('https://stepik.org/media/attachments/lesson/396012/hw_aa.csv', sep=';')"
   ]
  },
  {
   "cell_type": "code",
   "execution_count": 72,
   "metadata": {},
   "outputs": [
    {
     "data": {
      "text/html": [
       "<div>\n",
       "<style scoped>\n",
       "    .dataframe tbody tr th:only-of-type {\n",
       "        vertical-align: middle;\n",
       "    }\n",
       "\n",
       "    .dataframe tbody tr th {\n",
       "        vertical-align: top;\n",
       "    }\n",
       "\n",
       "    .dataframe thead th {\n",
       "        text-align: right;\n",
       "    }\n",
       "</style>\n",
       "<table border=\"1\" class=\"dataframe\">\n",
       "  <thead>\n",
       "    <tr style=\"text-align: right;\">\n",
       "      <th></th>\n",
       "      <th>Unnamed: 0</th>\n",
       "      <th>uid</th>\n",
       "      <th>experimentVariant</th>\n",
       "      <th>version</th>\n",
       "      <th>purchase</th>\n",
       "    </tr>\n",
       "  </thead>\n",
       "  <tbody>\n",
       "    <tr>\n",
       "      <th>0</th>\n",
       "      <td>1</td>\n",
       "      <td>c4ca4238a0b923820dcc509a6f75849b</td>\n",
       "      <td>1</td>\n",
       "      <td>v2.8.0</td>\n",
       "      <td>0</td>\n",
       "    </tr>\n",
       "    <tr>\n",
       "      <th>1</th>\n",
       "      <td>2</td>\n",
       "      <td>c81e728d9d4c2f636f067f89cc14862c</td>\n",
       "      <td>0</td>\n",
       "      <td>v2.9.0</td>\n",
       "      <td>0</td>\n",
       "    </tr>\n",
       "    <tr>\n",
       "      <th>2</th>\n",
       "      <td>3</td>\n",
       "      <td>eccbc87e4b5ce2fe28308fd9f2a7baf3</td>\n",
       "      <td>1</td>\n",
       "      <td>v2.9.0</td>\n",
       "      <td>0</td>\n",
       "    </tr>\n",
       "    <tr>\n",
       "      <th>3</th>\n",
       "      <td>4</td>\n",
       "      <td>a87ff679a2f3e71d9181a67b7542122c</td>\n",
       "      <td>1</td>\n",
       "      <td>v2.8.0</td>\n",
       "      <td>0</td>\n",
       "    </tr>\n",
       "    <tr>\n",
       "      <th>4</th>\n",
       "      <td>5</td>\n",
       "      <td>e4da3b7fbbce2345d7772b0674a318d5</td>\n",
       "      <td>1</td>\n",
       "      <td>v2.8.0</td>\n",
       "      <td>0</td>\n",
       "    </tr>\n",
       "  </tbody>\n",
       "</table>\n",
       "</div>"
      ],
      "text/plain": [
       "   Unnamed: 0                               uid  experimentVariant version  \\\n",
       "0           1  c4ca4238a0b923820dcc509a6f75849b                  1  v2.8.0   \n",
       "1           2  c81e728d9d4c2f636f067f89cc14862c                  0  v2.9.0   \n",
       "2           3  eccbc87e4b5ce2fe28308fd9f2a7baf3                  1  v2.9.0   \n",
       "3           4  a87ff679a2f3e71d9181a67b7542122c                  1  v2.8.0   \n",
       "4           5  e4da3b7fbbce2345d7772b0674a318d5                  1  v2.8.0   \n",
       "\n",
       "   purchase  \n",
       "0         0  \n",
       "1         0  \n",
       "2         0  \n",
       "3         0  \n",
       "4         0  "
      ]
     },
     "execution_count": 72,
     "metadata": {},
     "output_type": "execute_result"
    }
   ],
   "source": [
    "df.head()"
   ]
  },
  {
   "cell_type": "code",
   "execution_count": 73,
   "metadata": {},
   "outputs": [
    {
     "data": {
      "application/vnd.jupyter.widget-view+json": {
       "model_id": "7140010dcd964da1b331f2f0b95c33f0",
       "version_major": 2,
       "version_minor": 0
      },
      "text/plain": [
       "HBox(children=(FloatProgress(value=0.0, max=1000.0), HTML(value='')))"
      ]
     },
     "metadata": {},
     "output_type": "display_data"
    },
    {
     "name": "stdout",
     "output_type": "stream",
     "text": [
      "\n"
     ]
    },
    {
     "data": {
      "image/png": "[encoded data removed]",
      "text/plain": [
       "<Figure size 432x288 with 1 Axes>"
      ]
     },
     "metadata": {},
     "output_type": "display_data"
    }
   ],
   "source": [
    "simulation = 1000 #количество симуляций\n",
    "n_s = 1000 #количество наблюдений в подвыборке\n",
    "rez = [] # сюда накапливаем результаты\n",
    "\n",
    "# Запускаем симуляции для А/А теста\n",
    "for i in tqdm(range(simulation)):\n",
    "    a0 = df.query('experimentVariant == 0').purchase.sample(n_s, replace = False).values\n",
    "    a1 = df.query('experimentVariant == 1').purchase.sample(n_s, replace = False).values\n",
    "    rez.append(stats.ttest_ind(a0, a1, equal_var = False)[1])\n",
    "    \n",
    "plt.hist(rez, bins = 50)\n",
    "plt.style.use('ggplot')\n",
    "plt.xlabel('pvalues')\n",
    "plt.ylabel('частота')\n",
    "plt.title(\"Histogam of ttest A/A simulations\")\n",
    "plt.show()\n"
   ]
  },
  {
   "cell_type": "code",
   "execution_count": 74,
   "metadata": {},
   "outputs": [
    {
     "data": {
      "text/plain": [
       "0.936"
      ]
     },
     "execution_count": 74,
     "metadata": {},
     "output_type": "execute_result"
    }
   ],
   "source": [
    "sum(np.array(rez) < 0.05) / simulation # FPR"
   ]
  },
  {
   "cell_type": "markdown",
   "metadata": {},
   "source": [
    "Ищем причину поломки сплит-системы"
   ]
  },
  {
   "cell_type": "code",
   "execution_count": 75,
   "metadata": {},
   "outputs": [
    {
     "data": {
      "text/plain": [
       "experimentVariant  version \n",
       "0                  v2.8.0      41283\n",
       "                   v2.9.0      11921\n",
       "                   v3.7.4.0     4204\n",
       "                   v3.8.0.0     5694\n",
       "1                  v2.8.0      41552\n",
       "                   v2.9.0      12033\n",
       "                   v3.7.4.0     4221\n",
       "                   v3.8.0.0     6110\n",
       "Name: purchase, dtype: int64"
      ]
     },
     "execution_count": 75,
     "metadata": {},
     "output_type": "execute_result"
    }
   ],
   "source": [
    "df.groupby(['experimentVariant', 'version']).purchase.count() \n",
    "# Проверяем, сколько в каждой А-ветке на каждую версию приходится пользователей всего. Тут соотношение ОК."
   ]
  },
  {
   "cell_type": "code",
   "execution_count": 76,
   "metadata": {},
   "outputs": [
    {
     "data": {
      "text/plain": [
       "experimentVariant  version \n",
       "0                  v2.8.0        41\n",
       "                   v2.9.0       890\n",
       "                   v3.7.4.0     252\n",
       "                   v3.8.0.0     328\n",
       "1                  v2.8.0      1895\n",
       "                   v2.9.0       858\n",
       "                   v3.7.4.0     266\n",
       "                   v3.8.0.0     384\n",
       "Name: purchase, dtype: int64"
      ]
     },
     "execution_count": 76,
     "metadata": {},
     "output_type": "execute_result"
    }
   ],
   "source": [
    "df.groupby(['experimentVariant', 'version']).purchase.sum()\n",
    "# Проверяем, сколько в каждой А-ветке на каждую версию приходится пользователей, совершивших покупку.\n",
    "# Здесь мы можем видеть, что в версии v2.8.0 в первой А-ветке чрезмерно низкое количество пользователей, совершивших покупку. "
   ]
  },
  {
   "cell_type": "markdown",
   "metadata": {},
   "source": [
    "Сравним одну и ту же версию в каждой ветке через т-тест"
   ]
  },
  {
   "cell_type": "code",
   "execution_count": 77,
   "metadata": {},
   "outputs": [
    {
     "data": {
      "text/plain": [
       "Ttest_indResult(statistic=-42.963540840360324, pvalue=0.0)"
      ]
     },
     "execution_count": 77,
     "metadata": {},
     "output_type": "execute_result"
    }
   ],
   "source": [
    "stats.ttest_ind(df.query('version == \"v2.8.0\" and experimentVariant == 0').purchase.values, \n",
    "                df.query('version == \"v2.8.0\" and experimentVariant == 1').purchase.values)\n",
    "# По данной версии эти две ветки сильно отличаются."
   ]
  },
  {
   "cell_type": "code",
   "execution_count": 78,
   "metadata": {},
   "outputs": [
    {
     "data": {
      "text/plain": [
       "Ttest_indResult(statistic=0.9979597634962479, pvalue=0.31830895167207446)"
      ]
     },
     "execution_count": 78,
     "metadata": {},
     "output_type": "execute_result"
    }
   ],
   "source": [
    "stats.ttest_ind(df.query('version == \"v2.9.0\" and experimentVariant == 0').purchase.values, \n",
    "                df.query('version == \"v2.9.0\" and experimentVariant == 1').purchase.values)\n",
    "# Нет статистически значимого результата в выборках по данной версии."
   ]
  },
  {
   "cell_type": "code",
   "execution_count": 79,
   "metadata": {},
   "outputs": [
    {
     "data": {
      "text/plain": [
       "Ttest_indResult(statistic=-0.5874925850487471, pvalue=0.5568886771079735)"
      ]
     },
     "execution_count": 79,
     "metadata": {},
     "output_type": "execute_result"
    }
   ],
   "source": [
    "stats.ttest_ind(df.query('version == \"v3.7.4.0\" and experimentVariant == 0').purchase.values, \n",
    "                df.query('version == \"v3.7.4.0\" and experimentVariant == 1').purchase.values)\n",
    "# Нет статистически значимого результата в выборках по данной версии."
   ]
  },
  {
   "cell_type": "code",
   "execution_count": 80,
   "metadata": {},
   "outputs": [
    {
     "data": {
      "text/plain": [
       "Ttest_indResult(statistic=-1.1956188950206779, pvalue=0.23186933664059722)"
      ]
     },
     "execution_count": 80,
     "metadata": {},
     "output_type": "execute_result"
    }
   ],
   "source": [
    "stats.ttest_ind(df.query('version == \"v3.8.0.0\" and experimentVariant == 0').purchase.values, \n",
    "                df.query('version == \"v3.8.0.0\" and experimentVariant == 1').purchase.values)\n",
    "# Нет статистически значимого результата в выборках по данной версии."
   ]
  },
  {
   "cell_type": "markdown",
   "metadata": {},
   "source": [
    "Т-тест подтверждает, что причина поломки в мобильной версии v2.8.0. \n",
    "Выбросим данную версию из исходного датафрейма и проведем А/А тест заново."
   ]
  },
  {
   "cell_type": "code",
   "execution_count": 81,
   "metadata": {},
   "outputs": [],
   "source": [
    "df = df.query('version != \"v2.8.0\"')"
   ]
  },
  {
   "cell_type": "code",
   "execution_count": 82,
   "metadata": {},
   "outputs": [
    {
     "data": {
      "application/vnd.jupyter.widget-view+json": {
       "model_id": "161a8eba853440c5b142083a8c6dd332",
       "version_major": 2,
       "version_minor": 0
      },
      "text/plain": [
       "HBox(children=(FloatProgress(value=0.0, max=1000.0), HTML(value='')))"
      ]
     },
     "metadata": {},
     "output_type": "display_data"
    },
    {
     "name": "stdout",
     "output_type": "stream",
     "text": [
      "\n"
     ]
    },
    {
     "data": {
      "image/png": "[encoded data removed]",
      "text/plain": [
       "<Figure size 432x288 with 1 Axes>"
      ]
     },
     "metadata": {},
     "output_type": "display_data"
    },
    {
     "data": {
      "text/plain": [
       "0.045"
      ]
     },
     "execution_count": 82,
     "metadata": {},
     "output_type": "execute_result"
    }
   ],
   "source": [
    "simulation = 1000 #количество симуляций\n",
    "n_s = 1000 #количество наблюдений в подвыборке\n",
    "rez = [] # сюда накапливаем результаты\n",
    "\n",
    "# Запускаем симуляции для А/А теста\n",
    "for i in tqdm(range(simulation)):\n",
    "    a0 = df.query('experimentVariant == 0').purchase.sample(n_s, replace = False).values\n",
    "    a1 = df.query('experimentVariant == 1').purchase.sample(n_s, replace = False).values\n",
    "    rez.append(stats.ttest_ind(a0, a1, equal_var = False)[1])\n",
    "    \n",
    "plt.hist(rez, bins = 50)\n",
    "plt.style.use('ggplot')\n",
    "plt.xlabel('pvalues')\n",
    "plt.ylabel('частота')\n",
    "plt.title(\"Histogam of ttest A/A simulations\")\n",
    "plt.show()\n",
    "\n",
    "sum(np.array(rez) < 0.05) / simulation # FPR"
   ]
  },
  {
   "cell_type": "markdown",
   "metadata": {},
   "source": [
    "#  PERFECT!"
   ]
  },
  {
   "cell_type": "code",
   "execution_count": null,
   "metadata": {},
   "outputs": [],
   "source": []
  },
  {
   "cell_type": "code",
   "execution_count": null,
   "metadata": {},
   "outputs": [],
   "source": []
  }
 ],
 "metadata": {
  "kernelspec": {
   "display_name": "Python 3",
   "language": "python",
   "name": "python3"
  },
  "language_info": {
   "codemirror_mode": {
    "name": "ipython",
    "version": 3
   },
   "file_extension": ".py",
   "mimetype": "text/x-python",
   "name": "python",
   "nbconvert_exporter": "python",
   "pygments_lexer": "ipython3",
   "version": "3.7.3"
  }
 },
 "nbformat": 4,
 "nbformat_minor": 4
}
